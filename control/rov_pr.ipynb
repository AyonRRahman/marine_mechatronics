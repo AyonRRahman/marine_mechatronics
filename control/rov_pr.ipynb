{
  "nbformat": 4,
  "nbformat_minor": 0,
  "metadata": {
    "colab": {
      "provenance": []
    },
    "kernelspec": {
      "name": "python3",
      "display_name": "Python 3"
    },
    "language_info": {
      "name": "python"
    }
  },
  "cells": [
    {
      "cell_type": "code",
      "execution_count": null,
      "metadata": {
        "colab": {
          "base_uri": "https://localhost:8080/",
          "height": 206
        },
        "id": "kjXAXdIbSM12",
        "outputId": "3d4c785f-9b7d-4a61-a0e4-ffeec6be5804"
      },
      "outputs": [
        {
          "output_type": "execute_result",
          "data": {
            "text/plain": [
              "    PWM (µs)          RPM   Current (A)   Voltage (V)   Power (W)  \\\n",
              "0       1100  3464.713333     24.298333            16  388.773333   \n",
              "1       1104  3468.010000     24.300000            16  388.800000   \n",
              "2       1108  3449.070000     23.780000            16  380.480000   \n",
              "3       1112  3421.120000     23.250000            16  372.000000   \n",
              "4       1116  3409.950000     22.640000            16  362.240000   \n",
              "\n",
              "    Force (Kg f)   Efficiency (g/W)  \n",
              "0      -4.069476          10.467466  \n",
              "1      -4.050577          10.418150  \n",
              "2      -4.023361          10.574435  \n",
              "3      -3.964394          10.656973  \n",
              "4      -3.900891          10.768803  "
            ],
            "text/html": [
              "\n",
              "  <div id=\"df-bc1d7e00-2496-4e5b-a0e1-67073306d854\">\n",
              "    <div class=\"colab-df-container\">\n",
              "      <div>\n",
              "<style scoped>\n",
              "    .dataframe tbody tr th:only-of-type {\n",
              "        vertical-align: middle;\n",
              "    }\n",
              "\n",
              "    .dataframe tbody tr th {\n",
              "        vertical-align: top;\n",
              "    }\n",
              "\n",
              "    .dataframe thead th {\n",
              "        text-align: right;\n",
              "    }\n",
              "</style>\n",
              "<table border=\"1\" class=\"dataframe\">\n",
              "  <thead>\n",
              "    <tr style=\"text-align: right;\">\n",
              "      <th></th>\n",
              "      <th>PWM (µs)</th>\n",
              "      <th>RPM</th>\n",
              "      <th>Current (A)</th>\n",
              "      <th>Voltage (V)</th>\n",
              "      <th>Power (W)</th>\n",
              "      <th>Force (Kg f)</th>\n",
              "      <th>Efficiency (g/W)</th>\n",
              "    </tr>\n",
              "  </thead>\n",
              "  <tbody>\n",
              "    <tr>\n",
              "      <th>0</th>\n",
              "      <td>1100</td>\n",
              "      <td>3464.713333</td>\n",
              "      <td>24.298333</td>\n",
              "      <td>16</td>\n",
              "      <td>388.773333</td>\n",
              "      <td>-4.069476</td>\n",
              "      <td>10.467466</td>\n",
              "    </tr>\n",
              "    <tr>\n",
              "      <th>1</th>\n",
              "      <td>1104</td>\n",
              "      <td>3468.010000</td>\n",
              "      <td>24.300000</td>\n",
              "      <td>16</td>\n",
              "      <td>388.800000</td>\n",
              "      <td>-4.050577</td>\n",
              "      <td>10.418150</td>\n",
              "    </tr>\n",
              "    <tr>\n",
              "      <th>2</th>\n",
              "      <td>1108</td>\n",
              "      <td>3449.070000</td>\n",
              "      <td>23.780000</td>\n",
              "      <td>16</td>\n",
              "      <td>380.480000</td>\n",
              "      <td>-4.023361</td>\n",
              "      <td>10.574435</td>\n",
              "    </tr>\n",
              "    <tr>\n",
              "      <th>3</th>\n",
              "      <td>1112</td>\n",
              "      <td>3421.120000</td>\n",
              "      <td>23.250000</td>\n",
              "      <td>16</td>\n",
              "      <td>372.000000</td>\n",
              "      <td>-3.964394</td>\n",
              "      <td>10.656973</td>\n",
              "    </tr>\n",
              "    <tr>\n",
              "      <th>4</th>\n",
              "      <td>1116</td>\n",
              "      <td>3409.950000</td>\n",
              "      <td>22.640000</td>\n",
              "      <td>16</td>\n",
              "      <td>362.240000</td>\n",
              "      <td>-3.900891</td>\n",
              "      <td>10.768803</td>\n",
              "    </tr>\n",
              "  </tbody>\n",
              "</table>\n",
              "</div>\n",
              "      <button class=\"colab-df-convert\" onclick=\"convertToInteractive('df-bc1d7e00-2496-4e5b-a0e1-67073306d854')\"\n",
              "              title=\"Convert this dataframe to an interactive table.\"\n",
              "              style=\"display:none;\">\n",
              "        \n",
              "  <svg xmlns=\"http://www.w3.org/2000/svg\" height=\"24px\"viewBox=\"0 0 24 24\"\n",
              "       width=\"24px\">\n",
              "    <path d=\"M0 0h24v24H0V0z\" fill=\"none\"/>\n",
              "    <path d=\"M18.56 5.44l.94 2.06.94-2.06 2.06-.94-2.06-.94-.94-2.06-.94 2.06-2.06.94zm-11 1L8.5 8.5l.94-2.06 2.06-.94-2.06-.94L8.5 2.5l-.94 2.06-2.06.94zm10 10l.94 2.06.94-2.06 2.06-.94-2.06-.94-.94-2.06-.94 2.06-2.06.94z\"/><path d=\"M17.41 7.96l-1.37-1.37c-.4-.4-.92-.59-1.43-.59-.52 0-1.04.2-1.43.59L10.3 9.45l-7.72 7.72c-.78.78-.78 2.05 0 2.83L4 21.41c.39.39.9.59 1.41.59.51 0 1.02-.2 1.41-.59l7.78-7.78 2.81-2.81c.8-.78.8-2.07 0-2.86zM5.41 20L4 18.59l7.72-7.72 1.47 1.35L5.41 20z\"/>\n",
              "  </svg>\n",
              "      </button>\n",
              "      \n",
              "  <style>\n",
              "    .colab-df-container {\n",
              "      display:flex;\n",
              "      flex-wrap:wrap;\n",
              "      gap: 12px;\n",
              "    }\n",
              "\n",
              "    .colab-df-convert {\n",
              "      background-color: #E8F0FE;\n",
              "      border: none;\n",
              "      border-radius: 50%;\n",
              "      cursor: pointer;\n",
              "      display: none;\n",
              "      fill: #1967D2;\n",
              "      height: 32px;\n",
              "      padding: 0 0 0 0;\n",
              "      width: 32px;\n",
              "    }\n",
              "\n",
              "    .colab-df-convert:hover {\n",
              "      background-color: #E2EBFA;\n",
              "      box-shadow: 0px 1px 2px rgba(60, 64, 67, 0.3), 0px 1px 3px 1px rgba(60, 64, 67, 0.15);\n",
              "      fill: #174EA6;\n",
              "    }\n",
              "\n",
              "    [theme=dark] .colab-df-convert {\n",
              "      background-color: #3B4455;\n",
              "      fill: #D2E3FC;\n",
              "    }\n",
              "\n",
              "    [theme=dark] .colab-df-convert:hover {\n",
              "      background-color: #434B5C;\n",
              "      box-shadow: 0px 1px 3px 1px rgba(0, 0, 0, 0.15);\n",
              "      filter: drop-shadow(0px 1px 2px rgba(0, 0, 0, 0.3));\n",
              "      fill: #FFFFFF;\n",
              "    }\n",
              "  </style>\n",
              "\n",
              "      <script>\n",
              "        const buttonEl =\n",
              "          document.querySelector('#df-bc1d7e00-2496-4e5b-a0e1-67073306d854 button.colab-df-convert');\n",
              "        buttonEl.style.display =\n",
              "          google.colab.kernel.accessAllowed ? 'block' : 'none';\n",
              "\n",
              "        async function convertToInteractive(key) {\n",
              "          const element = document.querySelector('#df-bc1d7e00-2496-4e5b-a0e1-67073306d854');\n",
              "          const dataTable =\n",
              "            await google.colab.kernel.invokeFunction('convertToInteractive',\n",
              "                                                     [key], {});\n",
              "          if (!dataTable) return;\n",
              "\n",
              "          const docLinkHtml = 'Like what you see? Visit the ' +\n",
              "            '<a target=\"_blank\" href=https://colab.research.google.com/notebooks/data_table.ipynb>data table notebook</a>'\n",
              "            + ' to learn more about interactive tables.';\n",
              "          element.innerHTML = '';\n",
              "          dataTable['output_type'] = 'display_data';\n",
              "          await google.colab.output.renderOutput(dataTable, element);\n",
              "          const docLink = document.createElement('div');\n",
              "          docLink.innerHTML = docLinkHtml;\n",
              "          element.appendChild(docLink);\n",
              "        }\n",
              "      </script>\n",
              "    </div>\n",
              "  </div>\n",
              "  "
            ]
          },
          "metadata": {},
          "execution_count": 41
        }
      ],
      "source": [
        "import pandas as pd\n",
        "import matplotlib.pyplot as plt\n",
        "import numpy as np\n",
        "\n",
        "df = pd.read_excel('T200-Public-Performance-Data-10-20V-September-2019.xlsx', sheet_name='16 V') \n",
        "df.head()"
      ]
    },
    {
      "cell_type": "code",
      "source": [
        "plt.plot(10*df[' Force (Kg f)'], df[' PWM (µs)'])\n"
      ],
      "metadata": {
        "colab": {
          "base_uri": "https://localhost:8080/",
          "height": 282
        },
        "id": "twcz6CJUSZB2",
        "outputId": "f53ad1f1-1de4-4529-9089-9379d39a1eef"
      },
      "execution_count": null,
      "outputs": [
        {
          "output_type": "execute_result",
          "data": {
            "text/plain": [
              "[<matplotlib.lines.Line2D at 0x7f369c7d5c10>]"
            ]
          },
          "metadata": {},
          "execution_count": 42
        },
        {
          "output_type": "display_data",
          "data": {
            "text/plain": [
              "<Figure size 432x288 with 1 Axes>"
            ],
            "image/png": "[encoded data removed]"
          },
          "metadata": {
            "needs_background": "light"
          }
        }
      ]
    },
    {
      "cell_type": "code",
      "source": [
        "#linear interpolation (regression)\n",
        "df0 = df[df[' Force (Kg f)']!=0] #filter the 0 on x axis\n",
        "print(df0.shape)\n",
        "print(df.shape)\n",
        "\n",
        "pos_df = df0[df0[' Force (Kg f)']>0] #x>0\n",
        "neg_df = df0[df0[' Force (Kg f)']<0] #x<0\n",
        "\n",
        "print(pos_df.shape)\n",
        "print(neg_df.shape)\n",
        "\n",
        "y = np.array(df0[' PWM (µs)'].to_list())\n",
        "x = 10*np.array(df0[' Force (Kg f)'].to_list())\n",
        "print(y.shape)\n",
        "print(x.shape)\n",
        "plt.scatter(x,y)\n"
      ],
      "metadata": {
        "colab": {
          "base_uri": "https://localhost:8080/",
          "height": 387
        },
        "id": "O30DQTOQS1VO",
        "outputId": "f82fbfc8-faa3-4222-9706-2615b044190c"
      },
      "execution_count": null,
      "outputs": [
        {
          "output_type": "stream",
          "name": "stdout",
          "text": [
            "(186, 7)\n",
            "(201, 7)\n",
            "(93, 7)\n",
            "(93, 7)\n",
            "(186,)\n",
            "(186,)\n"
          ]
        },
        {
          "output_type": "execute_result",
          "data": {
            "text/plain": [
              "<matplotlib.collections.PathCollection at 0x7f369c42a520>"
            ]
          },
          "metadata": {},
          "execution_count": 43
        },
        {
          "output_type": "display_data",
          "data": {
            "text/plain": [
              "<Figure size 432x288 with 1 Axes>"
            ],
            "image/png": "[encoded data removed]"
          },
          "metadata": {
            "needs_background": "light"
          }
        }
      ]
    },
    {
      "cell_type": "code",
      "source": [
        "plt.plot(pos_df[' Force (Kg f)'], pos_df[' PWM (µs)'])"
      ],
      "metadata": {
        "colab": {
          "base_uri": "https://localhost:8080/",
          "height": 282
        },
        "id": "y7ezD6SQULh1",
        "outputId": "f3a1a40e-008d-47e8-cc04-79a3c080a0e5"
      },
      "execution_count": null,
      "outputs": [
        {
          "output_type": "execute_result",
          "data": {
            "text/plain": [
              "[<matplotlib.lines.Line2D at 0x7f369c486f70>]"
            ]
          },
          "metadata": {},
          "execution_count": 44
        },
        {
          "output_type": "display_data",
          "data": {
            "text/plain": [
              "<Figure size 432x288 with 1 Axes>"
            ],
            "image/png": "[encoded data removed]"
          },
          "metadata": {
            "needs_background": "light"
          }
        }
      ]
    },
    {
      "cell_type": "code",
      "source": [
        "def linear_interpolate(df):\n",
        "    x = 10*np.array(df[' Force (Kg f)'].to_list())\n",
        "    y = np.array(df[' PWM (µs)'].to_list())\n",
        "    \n",
        "    #LINE EQN Y = MX +C\n",
        "    \n",
        "    N = y.shape[0] #NUMBER OP DATAPOINT\n",
        "    m = (N*np.sum(np.multiply(x,y)) - np.sum(x)*np.sum(y))/ (N*np.sum(np.square(x)) - (np.sum(x)**2))\n",
        "    c = (np.sum(y)-m*np.sum(x))/N\n",
        "    return m,c\n",
        "\n",
        "m1,c1 = linear_interpolate(pos_df)\n",
        "\n",
        "x1 = np.linspace(0.0,50.0, 1000)\n",
        "y1 = m1*x1 + c1 \n",
        "plt.plot(x1,y1)\n",
        "\n",
        "m2,c2 = linear_interpolate(neg_df)\n",
        "x2 = np.linspace(-50,0,1000)\n",
        "y2 = m2*x2 + c2\n",
        "plt.plot(x2, y2)\n"
      ],
      "metadata": {
        "colab": {
          "base_uri": "https://localhost:8080/",
          "height": 282
        },
        "id": "iKeUAeoDWM2T",
        "outputId": "e4737c73-1ceb-4be1-fdcc-a920bc906f09"
      },
      "execution_count": null,
      "outputs": [
        {
          "output_type": "execute_result",
          "data": {
            "text/plain": [
              "[<matplotlib.lines.Line2D at 0x7f369c40b910>]"
            ]
          },
          "metadata": {},
          "execution_count": 45
        },
        {
          "output_type": "display_data",
          "data": {
            "text/plain": [
              "<Figure size 432x288 with 1 Axes>"
            ],
            "image/png": "[encoded data removed]"
          },
          "metadata": {
            "needs_background": "light"
          }
        }
      ]
    },
    {
      "cell_type": "code",
      "source": [
        "#question 4,5,6 proportional controller\n",
        "\n",
        "def p_control(kp=[5,5,5,5,5,5], state=[5,5,5,0,5,5], destination =[5,5,5,5,5,5], enable = [1,1,1,1,1,1], flotability = 0):\n",
        "    if not len(kp)==len(state) and len(destination)==len(state):\n",
        "        print(' error input')\n",
        "\n",
        "    masked_kp = np.multiply(kp, enable)\n",
        "    output = np.multiply(masked_kp,(np.array(destination)-np.array(state))) + np.array([0,0,flotability, 0, 0, 0])\n",
        "    return output \n",
        "\n",
        "p_control()"
      ],
      "metadata": {
        "colab": {
          "base_uri": "https://localhost:8080/"
        },
        "id": "T7xrGGV5af9D",
        "outputId": "5bd26402-f550-4ce7-976f-f2ed9862d753"
      },
      "execution_count": null,
      "outputs": [
        {
          "output_type": "execute_result",
          "data": {
            "text/plain": [
              "array([ 0,  0,  0, 25,  0,  0])"
            ]
          },
          "metadata": {},
          "execution_count": 49
        }
      ]
    },
    {
      "cell_type": "code",
      "source": [
        "global int_error \n",
        "int_error = np.array([0, 0, 0, 0, 0, 0], dtype = 'float64')\n",
        "\n",
        "def PI_control(Kp= [5,5,5,5,5,5] ,state = [5,5,5,5,5,5],destination = [5,5,5,5,5,5], Ki = [5,5,5,5,5,5], enable = [1,1,1,1,1,1], floatability = 0, dt = 0.001):\n",
        "    global int_error\n",
        "    P_control = p_control(Kp, state, destination, enable, floatability)\n",
        "    error = np.array(destination) - np.array(state)\n",
        "    int_error += error*dt\n",
        "    output = P_control + int_error*Ki\n",
        "\n",
        "    return output\n",
        "\n",
        "PI_control()"
      ],
      "metadata": {
        "colab": {
          "base_uri": "https://localhost:8080/"
        },
        "id": "56-NXH5beOMd",
        "outputId": "29036afa-a03c-4ffe-d84e-7836dcee176f"
      },
      "execution_count": null,
      "outputs": [
        {
          "output_type": "execute_result",
          "data": {
            "text/plain": [
              "array([0., 0., 0., 0., 0., 0.])"
            ]
          },
          "metadata": {},
          "execution_count": 55
        }
      ]
    },
    {
      "cell_type": "code",
      "source": [
        "global prev_error\n",
        "prev_error = np.array([0, 0, 0, 0, 0, 0], dtype = 'float64')\n",
        "\n",
        "def PID_control(Kp= [5,5,5,5,5,5] ,state = [5,5,5,5,5,5],destination = [5,5,5,5,5,5], Ki = [5,5,5,5,5,5], Kd = [5,5,5,5,5,5], enable = [1,1,1,1,1,1], floatability = 0, dt = 0.001):\n",
        "    global prev_error\n",
        "\n",
        "    pi_control = PI_control(Kp, state, destination, Ki, enable, floatability)\n",
        "    error = np.array(destination) - np.array(state)\n",
        "    diff_error = (error-prev_error)/dt\n",
        "    output = pi_control + np.multiply(pi_control,Kd)\n",
        "    prev_error = error\n",
        "    return output\n",
        "\n",
        "PID_control()"
      ],
      "metadata": {
        "colab": {
          "base_uri": "https://localhost:8080/"
        },
        "id": "HTT3WW-uv4Wo",
        "outputId": "700e0bf9-273c-4e0e-cb1a-a54c413e2b7d"
      },
      "execution_count": null,
      "outputs": [
        {
          "output_type": "execute_result",
          "data": {
            "text/plain": [
              "array([0., 0., 0., 0., 0., 0.])"
            ]
          },
          "metadata": {},
          "execution_count": 58
        }
      ]
    },
    {
      "cell_type": "code",
      "source": [
        "def trajectory( t ,state_init=[5,5,5,5,5,5], state_final=[5,5,5,5,5,5], t_final=20, enable=[1,1,1,1,1,1]):\n",
        "    # t = np.array(t)\n",
        "    # t = t[t<=t_final]\n",
        "\n",
        "    a2 = 3*(np.array(state_final) - np.array(state_init))/(t_final**2)\n",
        "    a3 = -2*(np.array(state_final)-np.array(state_init))/(t_final**3)\n",
        "    \n",
        "    output = np.array(state_init).reshape(6,1) + np.multiply(np.reshape(a2, (6,1)), t**2) + np.multiply(np.reshape(a3, (6,1)), t**3)\n",
        "    derivative = np.array(state_init).reshape(6,1) + 2*np.multiply(np.reshape(a2, (6,1)), t) + 3*np.multiply(np.reshape(a3, (6,1)), t**2)\n",
        "    \n",
        "    return output, derivative\n",
        "\n",
        "def trajectory_gen(t_final=20, mission_time=30, state_init = [0,0,0,0,0,0], state_final=[1,2,5,0,4,0], dt=0.001):\n",
        "    t = np.linspace(0, t_final, int(t_final/dt))\n",
        "    \n",
        "    traj, der = trajectory(t, state_init, state_final, t_final)\n",
        "\n",
        "    t_steady = np.linspace(t_final, mission_time, int((mission_time-t_final)/dt))\n",
        "    t_steady = t_steady[1:]\n",
        "    N = t_steady.shape[0]\n",
        "    aa = np.array(state_final).reshape((6,1))\n",
        "    state_steady = np.multiply(np.array(state_final).reshape((6,1)), np.ones((6, N)))\n",
        "    steady_state_der = np.multiply(np.array(state_final).reshape((6,1)), np.zeros((6, N)))\n",
        "\n",
        "    return np.concatenate((traj, state_steady), axis =1), np.concatenate((der, steady_state_der), axis =1) \n",
        "\n",
        "# t_final = \n",
        "# t = np.linspace(0, t_final, int(t_final/dt))\n",
        "traj, der = trajectory_gen()\n",
        "for i in range(6):\n",
        "    plt.plot(der[i, :])\n",
        "\n",
        "        "
      ],
      "metadata": {
        "colab": {
          "base_uri": "https://localhost:8080/",
          "height": 265
        },
        "id": "X3CYFy6G0Xlp",
        "outputId": "e9c81ba2-a4f1-4cc6-a8b0-dd719e6c0bcb"
      },
      "execution_count": null,
      "outputs": [
        {
          "output_type": "display_data",
          "data": {
            "text/plain": [
              "<Figure size 432x288 with 1 Axes>"
            ],
            "image/png": "[encoded data removed]"
          },
          "metadata": {
            "needs_background": "light"
          }
        }
      ]
    },
    {
      "cell_type": "code",
      "source": [
        "a = np.reshape(np.array([1,2,3]),(3,1))\n",
        "b = np.ones((6,7))\n"
      ],
      "metadata": {
        "id": "IeJqzUbt28QG"
      },
      "execution_count": null,
      "outputs": []
    },
    {
      "cell_type": "code",
      "source": [
        "a = np.linspace(1,10,10)\n",
        "a[a<5]"
      ],
      "metadata": {
        "colab": {
          "base_uri": "https://localhost:8080/"
        },
        "id": "3P6gdcdN4B8i",
        "outputId": "2f56e611-f169-4849-a677-d8efd714224c"
      },
      "execution_count": null,
      "outputs": [
        {
          "output_type": "execute_result",
          "data": {
            "text/plain": [
              "array([1., 2., 3., 4.])"
            ]
          },
          "metadata": {},
          "execution_count": 86
        }
      ]
    }
  ]
}